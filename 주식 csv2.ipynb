{
 "cells": [
  {
   "cell_type": "code",
   "execution_count": null,
   "metadata": {},
   "outputs": [],
   "source": [
    "#삼성전자\n",
    "import pandas as pd \n",
    "import requests \n",
    "\n",
    "html = requests.get('https://finance.naver.com/item/sise_day.nhn?code=005930&page=1') \n",
    "\n",
    "table = pd.read_html(html.text)"
   ]
  },
  {
   "cell_type": "code",
   "execution_count": null,
   "metadata": {},
   "outputs": [],
   "source": [
    "for i in range(50):\n",
    "    html = requests.get('https://finance.naver.com/item/sise_day.nhn?code=005930&page={}'.format(i + 1))\n",
    "    table = pd.read_html(html.text)\n",
    "    if i == 0:\n",
    "        data = table[0].dropna().reset_index(drop = True)\n",
    "    else:\n",
    "        data1 = table[0].dropna().reset_index(drop = True)\n",
    "        data = pd.concat([data, data1])\n",
    "\n",
    "samsung_data = data.reset_index(drop = True)\n",
    "samsung_data"
   ]
  },
  {
   "cell_type": "code",
   "execution_count": null,
   "metadata": {},
   "outputs": [],
   "source": [
    "#csv 파일 전환\n",
    "samsung_data.to_csv('samsung.csv' ,encoding='cp949')"
   ]
  },
  {
   "cell_type": "code",
   "execution_count": null,
   "metadata": {},
   "outputs": [],
   "source": [
    "#멀티캠퍼스\n",
    "import pandas as pd \n",
    "import requests \n",
    "\n",
    "html = requests.get('https://finance.naver.com/item/sise_day.nhn?code=067280&page=1') \n",
    "\n",
    "table = pd.read_html(html.text)"
   ]
  },
  {
   "cell_type": "code",
   "execution_count": null,
   "metadata": {},
   "outputs": [],
   "source": [
    "for i in range(50):\n",
    "    html = requests.get('https://finance.naver.com/item/sise_day.nhn?code=067280&page={}'.format(i + 1))\n",
    "    table = pd.read_html(html.text)\n",
    "    if i == 0:\n",
    "        data = table[0].dropna().reset_index(drop = True)\n",
    "    else:\n",
    "        data1 = table[0].dropna().reset_index(drop = True)\n",
    "        data = pd.concat([data, data1])\n",
    "\n",
    "multicampus_data = data.reset_index(drop = True)\n",
    "multicampus_data"
   ]
  },
  {
   "cell_type": "code",
   "execution_count": null,
   "metadata": {},
   "outputs": [],
   "source": [
    "multicampus_data.to_csv('multicampus.csv', encoding='cp949')"
   ]
  },
  {
   "cell_type": "code",
   "execution_count": null,
   "metadata": {},
   "outputs": [],
   "source": [
    "#씨젠\n",
    "import pandas as pd \n",
    "import requests \n",
    "\n",
    "html = requests.get('https://finance.naver.com/item/sise_day.nhn?code=096530&page=1') \n",
    "\n",
    "table = pd.read_html(html.text)"
   ]
  },
  {
   "cell_type": "code",
   "execution_count": null,
   "metadata": {},
   "outputs": [],
   "source": [
    "for i in range(50):\n",
    "    html = requests.get('https://finance.naver.com/item/sise_day.nhn?code=096530&page={}'.format(i + 1))\n",
    "    table = pd.read_html(html.text)\n",
    "    if i == 0:\n",
    "        data = table[0].dropna().reset_index(drop = True)\n",
    "    else:\n",
    "        data1 = table[0].dropna().reset_index(drop = True)\n",
    "        data = pd.concat([data, data1])\n",
    "\n",
    "seegene_data = data.reset_index(drop = True)\n",
    "seegene_data"
   ]
  },
  {
   "cell_type": "code",
   "execution_count": null,
   "metadata": {},
   "outputs": [],
   "source": [
    "seegene_data.to_csv('seegene.csv', encoding='cp949')"
   ]
  },
  {
   "cell_type": "code",
   "execution_count": null,
   "metadata": {},
   "outputs": [],
   "source": [
    "#카카오\n",
    "import pandas as pd \n",
    "import requests \n",
    "\n",
    "html = requests.get('https://finance.naver.com/item/sise_day.nhn?code=035720&page=1') \n",
    "\n",
    "table = pd.read_html(html.text)"
   ]
  },
  {
   "cell_type": "code",
   "execution_count": null,
   "metadata": {},
   "outputs": [],
   "source": [
    "for i in range(50):\n",
    "    html = requests.get('https://finance.naver.com/item/sise_day.nhn?code=035720&page={}'.format(i + 1))\n",
    "    table = pd.read_html(html.text)\n",
    "    if i == 0:\n",
    "        data = table[0].dropna().reset_index(drop = True)\n",
    "    else:\n",
    "        data1 = table[0].dropna().reset_index(drop = True)\n",
    "        data = pd.concat([data, data1])\n",
    "\n",
    "kakao_data = data.reset_index(drop = True)\n",
    "kakao_data"
   ]
  },
  {
   "cell_type": "code",
   "execution_count": null,
   "metadata": {},
   "outputs": [],
   "source": [
    "kakao_data.to_csv('kakao.csv',encoding='cp949')"
   ]
  },
  {
   "cell_type": "code",
   "execution_count": null,
   "metadata": {},
   "outputs": [],
   "source": [
    "#네이버\n",
    "import pandas as pd \n",
    "import requests \n",
    "\n",
    "xlsx = pd.read_excel('JongMokCodeTable_20140616_Uodate02.xlsx')\n",
    "xlsx\n",
    "\n",
    "x = input()\n",
    "\n",
    "html = requests.get('https://finance.naver.com/item/sise_day.nhn?code={}&page=1'.format(x))\n",
    "\n",
    "table = pd.read_html(html.text)\n",
    "\n",
    "for i in range(50):\n",
    "    html = requests.get('https://finance.naver.com/item/sise_day.nhn?code={}&page={}'.format(x, i + 1))\n",
    "    table = pd.read_html(html.text)\n",
    "    if i == 0:\n",
    "        data = table[0].dropna().reset_index(drop = True)\n",
    "    else:\n",
    "        data1 = table[0].dropna().reset_index(drop = True)\n",
    "        data = pd.concat([data, data1])\n",
    "\n",
    "naver_data = data.reset_index(drop = True)\n",
    "naver_data"
   ]
  },
  {
   "cell_type": "code",
   "execution_count": null,
   "metadata": {},
   "outputs": [],
   "source": [
    "for i in range(50):\n",
    "    html = requests.get('https://finance.naver.com/item/sise_day.nhn?code={}&page={}'.format(x, i + 1))\n",
    "    table = pd.read_html(html.text)\n",
    "    if i == 0:\n",
    "        data = table[0].dropna().reset_index(drop = True)\n",
    "    else:\n",
    "        data1 = table[0].dropna().reset_index(drop = True)\n",
    "        data = pd.concat([data, data1])\n",
    "\n",
    "naver_data = data.reset_index(drop = True)\n",
    "naver_data"
   ]
  },
  {
   "cell_type": "code",
   "execution_count": null,
   "metadata": {},
   "outputs": [],
   "source": [
    "naver_data1= naver_data.to_csv('naver.csv')"
   ]
  },
  {
   "cell_type": "code",
   "execution_count": null,
   "metadata": {
    "scrolled": true
   },
   "outputs": [],
   "source": [
    "a = naver_data['종가'].plot()"
   ]
  },
  {
   "cell_type": "code",
   "execution_count": null,
   "metadata": {},
   "outputs": [],
   "source": [
    "type(naver_data)"
   ]
  },
  {
   "cell_type": "code",
   "execution_count": null,
   "metadata": {},
   "outputs": [],
   "source": [
    "import datetime\n",
    "\n",
    "k= pd.DataFrame(pd.to_datetime(naver_data['날짜']))\n",
    "print(k)"
   ]
  },
  {
   "cell_type": "code",
   "execution_count": null,
   "metadata": {},
   "outputs": [],
   "source": [
    "k['year'] =pd.DatetimeIndex(k['날짜']).year"
   ]
  },
  {
   "cell_type": "code",
   "execution_count": null,
   "metadata": {},
   "outputs": [],
   "source": [
    "k.head(40)"
   ]
  },
  {
   "cell_type": "code",
   "execution_count": 13,
   "metadata": {},
   "outputs": [],
   "source": [
    "#네이버\n",
    "import pandas as pd \n",
    "import requests "
   ]
  },
  {
   "cell_type": "code",
   "execution_count": 14,
   "metadata": {
    "scrolled": true
   },
   "outputs": [
    {
     "data": {
      "text/html": [
       "<div>\n",
       "<style scoped>\n",
       "    .dataframe tbody tr th:only-of-type {\n",
       "        vertical-align: middle;\n",
       "    }\n",
       "\n",
       "    .dataframe tbody tr th {\n",
       "        vertical-align: top;\n",
       "    }\n",
       "\n",
       "    .dataframe thead th {\n",
       "        text-align: right;\n",
       "    }\n",
       "</style>\n",
       "<table border=\"1\" class=\"dataframe\">\n",
       "  <thead>\n",
       "    <tr style=\"text-align: right;\">\n",
       "      <th></th>\n",
       "      <th>종목코드</th>\n",
       "    </tr>\n",
       "    <tr>\n",
       "      <th>종목명</th>\n",
       "      <th></th>\n",
       "    </tr>\n",
       "  </thead>\n",
       "  <tbody>\n",
       "    <tr>\n",
       "      <th>삼성전자</th>\n",
       "      <td>'005930</td>\n",
       "    </tr>\n",
       "    <tr>\n",
       "      <th>현대차</th>\n",
       "      <td>'005380</td>\n",
       "    </tr>\n",
       "    <tr>\n",
       "      <th>SK하이닉스</th>\n",
       "      <td>'000660</td>\n",
       "    </tr>\n",
       "    <tr>\n",
       "      <th>현대모비스</th>\n",
       "      <td>'012330</td>\n",
       "    </tr>\n",
       "    <tr>\n",
       "      <th>NAVER</th>\n",
       "      <td>'035420</td>\n",
       "    </tr>\n",
       "    <tr>\n",
       "      <th>...</th>\n",
       "      <td>...</td>\n",
       "    </tr>\n",
       "    <tr>\n",
       "      <th>현대4727KOSPI200풋</th>\n",
       "      <td>'584727</td>\n",
       "    </tr>\n",
       "    <tr>\n",
       "      <th>현대4728KOSPI200풋</th>\n",
       "      <td>'584728</td>\n",
       "    </tr>\n",
       "    <tr>\n",
       "      <th>현대4729KOSPI200풋</th>\n",
       "      <td>'584729</td>\n",
       "    </tr>\n",
       "    <tr>\n",
       "      <th>현대4730KOSPI200풋</th>\n",
       "      <td>'584730</td>\n",
       "    </tr>\n",
       "    <tr>\n",
       "      <th>경제금융</th>\n",
       "      <td>'EFX1000</td>\n",
       "    </tr>\n",
       "  </tbody>\n",
       "</table>\n",
       "<p>31759 rows × 1 columns</p>\n",
       "</div>"
      ],
      "text/plain": [
       "                     종목코드\n",
       "종목명                      \n",
       "삼성전자              '005930\n",
       "현대차               '005380\n",
       "SK하이닉스            '000660\n",
       "현대모비스             '012330\n",
       "NAVER             '035420\n",
       "...                   ...\n",
       "현대4727KOSPI200풋   '584727\n",
       "현대4728KOSPI200풋   '584728\n",
       "현대4729KOSPI200풋   '584729\n",
       "현대4730KOSPI200풋   '584730\n",
       "경제금융             'EFX1000\n",
       "\n",
       "[31759 rows x 1 columns]"
      ]
     },
     "execution_count": 14,
     "metadata": {},
     "output_type": "execute_result"
    }
   ],
   "source": [
    "idx_col= '종목명'\n",
    "\n",
    "xlsx = pd.read_excel('JongMokCodeTable_20140616_Uodate02.xlsx', index_col = idx_col)\n",
    "xlsx[['종목코드']]\n"
   ]
  },
  {
   "cell_type": "code",
   "execution_count": 23,
   "metadata": {},
   "outputs": [
    {
     "name": "stdout",
     "output_type": "stream",
     "text": [
      "삼성전자\n"
     ]
    },
    {
     "data": {
      "text/html": [
       "<div>\n",
       "<style scoped>\n",
       "    .dataframe tbody tr th:only-of-type {\n",
       "        vertical-align: middle;\n",
       "    }\n",
       "\n",
       "    .dataframe tbody tr th {\n",
       "        vertical-align: top;\n",
       "    }\n",
       "\n",
       "    .dataframe thead th {\n",
       "        text-align: right;\n",
       "    }\n",
       "</style>\n",
       "<table border=\"1\" class=\"dataframe\">\n",
       "  <thead>\n",
       "    <tr style=\"text-align: right;\">\n",
       "      <th></th>\n",
       "      <th>날짜</th>\n",
       "      <th>종가</th>\n",
       "      <th>전일비</th>\n",
       "      <th>시가</th>\n",
       "      <th>고가</th>\n",
       "      <th>저가</th>\n",
       "      <th>거래량</th>\n",
       "    </tr>\n",
       "  </thead>\n",
       "  <tbody>\n",
       "    <tr>\n",
       "      <th>0</th>\n",
       "      <td>2020.07.30</td>\n",
       "      <td>59100.0</td>\n",
       "      <td>100.0</td>\n",
       "      <td>59700.0</td>\n",
       "      <td>60100.0</td>\n",
       "      <td>59100.0</td>\n",
       "      <td>17339202.0</td>\n",
       "    </tr>\n",
       "    <tr>\n",
       "      <th>1</th>\n",
       "      <td>2020.07.29</td>\n",
       "      <td>59000.0</td>\n",
       "      <td>400.0</td>\n",
       "      <td>60300.0</td>\n",
       "      <td>60400.0</td>\n",
       "      <td>58600.0</td>\n",
       "      <td>36476611.0</td>\n",
       "    </tr>\n",
       "    <tr>\n",
       "      <th>2</th>\n",
       "      <td>2020.07.28</td>\n",
       "      <td>58600.0</td>\n",
       "      <td>3000.0</td>\n",
       "      <td>57000.0</td>\n",
       "      <td>58800.0</td>\n",
       "      <td>56400.0</td>\n",
       "      <td>48431566.0</td>\n",
       "    </tr>\n",
       "    <tr>\n",
       "      <th>3</th>\n",
       "      <td>2020.07.27</td>\n",
       "      <td>55600.0</td>\n",
       "      <td>1400.0</td>\n",
       "      <td>54300.0</td>\n",
       "      <td>55700.0</td>\n",
       "      <td>54300.0</td>\n",
       "      <td>21054421.0</td>\n",
       "    </tr>\n",
       "    <tr>\n",
       "      <th>4</th>\n",
       "      <td>2020.07.24</td>\n",
       "      <td>54200.0</td>\n",
       "      <td>100.0</td>\n",
       "      <td>54000.0</td>\n",
       "      <td>54400.0</td>\n",
       "      <td>53700.0</td>\n",
       "      <td>10994535.0</td>\n",
       "    </tr>\n",
       "    <tr>\n",
       "      <th>...</th>\n",
       "      <td>...</td>\n",
       "      <td>...</td>\n",
       "      <td>...</td>\n",
       "      <td>...</td>\n",
       "      <td>...</td>\n",
       "      <td>...</td>\n",
       "      <td>...</td>\n",
       "    </tr>\n",
       "    <tr>\n",
       "      <th>495</th>\n",
       "      <td>2018.07.26</td>\n",
       "      <td>46900.0</td>\n",
       "      <td>750.0</td>\n",
       "      <td>46100.0</td>\n",
       "      <td>47000.0</td>\n",
       "      <td>46000.0</td>\n",
       "      <td>7374946.0</td>\n",
       "    </tr>\n",
       "    <tr>\n",
       "      <th>496</th>\n",
       "      <td>2018.07.25</td>\n",
       "      <td>46150.0</td>\n",
       "      <td>0.0</td>\n",
       "      <td>46250.0</td>\n",
       "      <td>46550.0</td>\n",
       "      <td>45900.0</td>\n",
       "      <td>7222471.0</td>\n",
       "    </tr>\n",
       "    <tr>\n",
       "      <th>497</th>\n",
       "      <td>2018.07.24</td>\n",
       "      <td>46150.0</td>\n",
       "      <td>350.0</td>\n",
       "      <td>46350.0</td>\n",
       "      <td>46600.0</td>\n",
       "      <td>45950.0</td>\n",
       "      <td>8261363.0</td>\n",
       "    </tr>\n",
       "    <tr>\n",
       "      <th>498</th>\n",
       "      <td>2018.07.23</td>\n",
       "      <td>46500.0</td>\n",
       "      <td>950.0</td>\n",
       "      <td>47100.0</td>\n",
       "      <td>47200.0</td>\n",
       "      <td>46150.0</td>\n",
       "      <td>10823782.0</td>\n",
       "    </tr>\n",
       "    <tr>\n",
       "      <th>499</th>\n",
       "      <td>2018.07.20</td>\n",
       "      <td>47450.0</td>\n",
       "      <td>550.0</td>\n",
       "      <td>47000.0</td>\n",
       "      <td>47600.0</td>\n",
       "      <td>46700.0</td>\n",
       "      <td>10474547.0</td>\n",
       "    </tr>\n",
       "  </tbody>\n",
       "</table>\n",
       "<p>500 rows × 7 columns</p>\n",
       "</div>"
      ],
      "text/plain": [
       "             날짜       종가     전일비       시가       고가       저가         거래량\n",
       "0    2020.07.30  59100.0   100.0  59700.0  60100.0  59100.0  17339202.0\n",
       "1    2020.07.29  59000.0   400.0  60300.0  60400.0  58600.0  36476611.0\n",
       "2    2020.07.28  58600.0  3000.0  57000.0  58800.0  56400.0  48431566.0\n",
       "3    2020.07.27  55600.0  1400.0  54300.0  55700.0  54300.0  21054421.0\n",
       "4    2020.07.24  54200.0   100.0  54000.0  54400.0  53700.0  10994535.0\n",
       "..          ...      ...     ...      ...      ...      ...         ...\n",
       "495  2018.07.26  46900.0   750.0  46100.0  47000.0  46000.0   7374946.0\n",
       "496  2018.07.25  46150.0     0.0  46250.0  46550.0  45900.0   7222471.0\n",
       "497  2018.07.24  46150.0   350.0  46350.0  46600.0  45950.0   8261363.0\n",
       "498  2018.07.23  46500.0   950.0  47100.0  47200.0  46150.0  10823782.0\n",
       "499  2018.07.20  47450.0   550.0  47000.0  47600.0  46700.0  10474547.0\n",
       "\n",
       "[500 rows x 7 columns]"
      ]
     },
     "execution_count": 23,
     "metadata": {},
     "output_type": "execute_result"
    }
   ],
   "source": [
    "x = input()\n",
    "y = xlsx[['종목코드']].loc[x]\n",
    "z = y['종목코드'].head(1).iloc[0].replace(\"'\",\"\")\n",
    "\n",
    "html = requests.get('https://finance.naver.com/item/sise_day.nhn?code={}&page=1'.format(z))\n",
    "\n",
    "table = pd.read_html(html.text)\n",
    "\n",
    "for i in range(50):\n",
    "    html = requests.get('https://finance.naver.com/item/sise_day.nhn?code={}&page={}'.format(z, i + 1))\n",
    "    table = pd.read_html(html.text)\n",
    "    if i == 0:\n",
    "        data = table[0].dropna().reset_index(drop = True)\n",
    "    else:\n",
    "        data1 = table[0].dropna().reset_index(drop = True)\n",
    "        data = pd.concat([data, data1])\n",
    "\n",
    "naver_data = data.reset_index(drop = True)\n",
    "naver_data"
   ]
  }
 ],
 "metadata": {
  "kernelspec": {
   "display_name": "Python 3",
   "language": "python",
   "name": "python3"
  },
  "language_info": {
   "codemirror_mode": {
    "name": "ipython",
    "version": 3
   },
   "file_extension": ".py",
   "mimetype": "text/x-python",
   "name": "python",
   "nbconvert_exporter": "python",
   "pygments_lexer": "ipython3",
   "version": "3.8.3"
  }
 },
 "nbformat": 4,
 "nbformat_minor": 4
}
