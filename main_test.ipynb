{
 "cells": [
  {
   "cell_type": "code",
   "execution_count": 23,
   "metadata": {},
   "outputs": [],
   "source": [
    "import pandas as pd \n",
    "import requests \n",
    "import matplotlib.pyplot as plt \n",
    "import matplotlib.ticker as ticker \n",
    "from mpl_finance import candlestick2_ohlc \n",
    "from matplotlib import font_manager, rc\n",
    "import FindTable as ft\n",
    "import FinanceExtract as fe"
   ]
  },
  {
   "cell_type": "code",
   "execution_count": 24,
   "metadata": {},
   "outputs": [],
   "source": [
    "font_name = font_manager.FontProperties(fname=\"c:/Windows/Fonts/malgun.ttf\").get_name()\n",
    "rc('font', family=font_name)\n",
    "codeTable ='JongMokCodeTable_20140616_Uodate02.xlsx'\n",
    "xlsx = pd.read_excel(codeTable, index_col = '종목명')"
   ]
  },
  {
   "cell_type": "code",
   "execution_count": 25,
   "metadata": {},
   "outputs": [],
   "source": [
    "finance_finder = fe.FinanceExtract()"
   ]
  },
  {
   "cell_type": "code",
   "execution_count": 26,
   "metadata": {},
   "outputs": [],
   "source": [
    "def show_graph(table):\n",
    "\n",
    "    stock_table = table\n",
    "    fig, ax = plt.subplots() \n",
    "\n",
    "    xdate = stock_table.날짜.astype('str')\n",
    "    xdate[::-1].reset_index()['날짜']\n",
    "\n",
    "    ax.plot(xdate, stock_table['종가'], label=\"종가\",linewidth=0.7,color='k')\n",
    "    ax.plot(xdate, stock_table['종가'].rolling(window=5).mean(), label=\"평균5일\",linewidth=0.7)\n",
    "    ax.plot(xdate, stock_table['종가'].rolling(window=20).mean(), label=\"평균20일\",linewidth=0.7)\n",
    "    ax.plot(xdate, stock_table['종가'].rolling(window=60).mean(), label=\"평균60일\",linewidth=0.7)\n",
    "\n",
    "    fig.suptitle(\"개미들의 주식전쟁\",fontsize=30)\n",
    "    ax.set_xlabel(\"날짜\")\n",
    "    ax.set_ylabel(\"주가(원)\")\n",
    "    ax.xaxis.set_major_locator(ticker.MaxNLocator(25))\n",
    "    fig.set_size_inches(18.5, 10.5)\n",
    "\n",
    "    ax.legend(loc=1)\n",
    "    plt.xticks(rotation = 45)\n",
    "\n",
    "    plt.grid()\n",
    "    plt.show()"
   ]
  },
  {
   "cell_type": "code",
   "execution_count": 27,
   "metadata": {},
   "outputs": [],
   "source": [
    "def stick_graph(table):\n",
    "    finance_table = table\n",
    "\n",
    "    fig, ax = plt.subplots() \n",
    "\n",
    "    xdate = stock_table.날짜.astype('str')\n",
    "    xdate[::-1].reset_index()['날짜']\n",
    "    \n",
    "    ax.plot(xdate, stock_table['종가'], label=\"종가\",linewidth=0.7,color='k')\n",
    "    ax.plot(xdate, stock_table['종가'].rolling(window=5).mean(), label=\"평균5일\",linewidth=0.7)\n",
    "    candlestick2_ohlc(ax, stock_table['시가'], stock_table['고가'],stock_table['저가'],stock_table['종가'], width=1.3, colorup='r', colordown='b')\n",
    "\n",
    "\n",
    "    fig.suptitle(\"개미들의 주식전쟁\",fontsize=30)\n",
    "    ax.set_xlabel(\"날짜\")\n",
    "    ax.set_ylabel(\"주가(원)\")\n",
    "    ax.xaxis.set_major_locator(ticker.MaxNLocator(25))\n",
    "    fig.set_size_inches(18.5, 10.5)\n",
    "\n",
    "    ax.legend(loc=1)\n",
    "    plt.xticks(rotation = 45)\n",
    "\n",
    "    plt.grid()\n",
    "    plt.show()"
   ]
  },
  {
   "cell_type": "code",
   "execution_count": null,
   "metadata": {},
   "outputs": [],
   "source": [
    "user_input ='0'\n",
    "\n",
    "while True :\n",
    "    print('끝내려면 exit')\n",
    "    print('종목명 : ')\n",
    "    user_input = input()\n",
    "    if(user_input =='exit'):\n",
    "        break;\n",
    "    try:\n",
    "        product_code = xlsx[['종목코드']].loc[user_input]\n",
    "        remake_code = product_code['종목코드'].head(1).iloc[0].replace(\"'\",\"\")\n",
    "    except:\n",
    "        print('없는 종목명입니다.')\n",
    "        continue\n",
    "    \n",
    "    stock_table = ft.Ant.findTable(remake_code)\n",
    "    stock_table =stock_table[::-1]\n",
    "\n",
    "    show_graph(stock_table)\n",
    "    stick_graph(stock_table)\n",
    "    finance_finder.show_finance_table(remake_code)\n",
    "        "
   ]
  }
 ],
 "metadata": {
  "kernelspec": {
   "display_name": "Python 3",
   "language": "python",
   "name": "python3"
  },
  "language_info": {
   "codemirror_mode": {
    "name": "ipython",
    "version": 3
   },
   "file_extension": ".py",
   "mimetype": "text/x-python",
   "name": "python",
   "nbconvert_exporter": "python",
   "pygments_lexer": "ipython3",
   "version": "3.6.8"
  }
 },
 "nbformat": 4,
 "nbformat_minor": 4
}
